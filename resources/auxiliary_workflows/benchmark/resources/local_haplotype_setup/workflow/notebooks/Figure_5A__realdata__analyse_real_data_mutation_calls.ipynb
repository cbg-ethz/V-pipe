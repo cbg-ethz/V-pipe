{
 "cells": [
  {
   "cell_type": "code",
   "execution_count": 1,
   "id": "f243dfe3",
   "metadata": {},
   "outputs": [],
   "source": [
    "import pandas as pd\n",
    "import seaborn as sns\n",
    "from matplotlib.ticker import FuncFormatter\n",
    "import humanize\n",
    "import matplotlib.pyplot as plt\n",
    "import numpy as np\n",
    "\n",
    "@FuncFormatter\n",
    "def duration_fmt(x, pos):\n",
    "    return humanize.precisedelta(x, minimum_unit='minutes',format='%0.0f')"
   ]
  },
  {
   "cell_type": "code",
   "execution_count": 2,
   "id": "f68745d5",
   "metadata": {},
   "outputs": [],
   "source": [
    "method_palette = {\"lofreq_local_haplo\": \"#9593D9\",\n",
    "                  \"LoFreq\": \"#9593D9\",\n",
    "                   \"shorah_default\": \"#ffe66d\",\n",
    "                   \"ShoRAH\": \"#ffe66d\",\n",
    "                   \"cliquesnv_local_haplo_snv\": \"#4ecdc4\",\n",
    "                   \"cliquesnv_local_haplo_snv_tf0.01\": \"#4ecdc4\",\n",
    "                   \"cliquesnv_local_haplo_tf0.01\": \"#4ecdc4\",\n",
    "                   \"cliquesnv_local_haplo\":\"#4ecdc4\",\n",
    "                   \"CliqueSNV\":  \"#4ecdc4\",\n",
    "                   \"viloca_alpha_0.000001\":  \"#ff6b6b\",\n",
    "                   \"viloca_alpha_0.00001\":  \"#ff6b6b\",\n",
    "                   \"viloca_alpha_3\":  \"#ff6b6b\",\n",
    "                   \"viloca_alpha_0.00001_K100\": \"#ff6b6b\",\n",
    "                   \"VILOCA\": \"#ff6b6b\",\n",
    "                   \"viloca_multi\" : \"#e76f51\",\n",
    "                   \"ground_truth\": \"grey\",\n",
    "                   \"ground truth\": \"grey\",\n",
    "                   \"cliquesnv_local_haplo_tf\": \"#ffe66d\",\n",
    "                   \"CliqueSNV - extra params\": \"#ffe66d\",\n",
    "                   \"cliquesnv_local_haplo_tf0.1\": \"#ffe66d\", \n",
    "                  }\n",
    "\n",
    "mapping_methods = {\n",
    "    'cliquesnv_local_haplo_snv_tf0.01': \"CliqueSNV\",\n",
    "    'cliquesnv_local_haplo_snv': \"CliqueSNV\",\n",
    "    'cliquesnv_local_haplo_tf0.01': \"CliqueSNV\",\n",
    "    'cliquesnv_local_haplo': \"CliqueSNV\",\n",
    "    'shorah_default': 'ShoRAH',\n",
    "    'lofreq_local_haplo': 'LoFreq',\n",
    "    'viloca_alpha_0.00001': 'VILOCA',\n",
    "    'viloca_alpha_0.00001_K100': 'VILOCA',\n",
    "    'viloca_alpha_0.00001_K100_multib2w': 'VILOCA',\n",
    "    'viloca_multi': 'VILOCA',\n",
    "    'ground_truth': \"ground truth\",\n",
    "    'cliquesnv_local_haplo_tf0.1': \"CliqueSNV\",\n",
    "}"
   ]
  },
  {
   "cell_type": "code",
   "execution_count": 3,
   "id": "d36222de",
   "metadata": {},
   "outputs": [],
   "source": [
    "# import snv calls\n",
    "fname_snv = \"results/realdata/performance_measures/local/performance.csv\"\n",
    "\n",
    "# import runtime\n",
    "fname_runtime = \"results/realdata/performance_measures/local/runtime.csv\""
   ]
  },
  {
   "cell_type": "code",
   "execution_count": 4,
   "id": "9338d7c2",
   "metadata": {},
   "outputs": [],
   "source": [
    "df = pd.read_csv(fname_snv)\n",
    "\n",
    "df['seq_tech'] = df['params'].str.split(\"~\").str[1].str.split(\"\\n\\n\").str[0]\n",
    "df['seq_mode'] = df['params'].str.split(\"~\").str[2].str.split(\"\\n\").str[0]\n",
    "df['sample'] = df['params'].str.split(\"~\").str[3].str.split(\"\\n\").str[0]\n",
    "\n",
    "def f_sample_name(row):\n",
    "    if row['seq_tech']=='pacbio':\n",
    "        return \"Ten-strain-IAV-Mix \"\n",
    "    if row['seq_tech']=='nanopore':\n",
    "        return \"Five-strain-PVY-Mix\"\n",
    "    if (row['seq_tech']=='illumina') & (row['sample']==\"5-virus-mix\"):\n",
    "        return \"Five-strain-HIV-Mix\"\n",
    "\n",
    "df['sample'] = df.apply(f_sample_name, axis=1)"
   ]
  },
  {
   "cell_type": "code",
   "execution_count": 5,
   "id": "9935b323",
   "metadata": {},
   "outputs": [
    {
     "data": {
      "text/plain": [
       "array(['lofreq_local_haplo', 'shorah_default',\n",
       "       'viloca_alpha_0.00001_K100_multib2w', 'viloca_alpha_0.00001_K100',\n",
       "       'cliquesnv_local_haplo_tf0.1'], dtype=object)"
      ]
     },
     "execution_count": 5,
     "metadata": {},
     "output_type": "execute_result"
    }
   ],
   "source": [
    "df['method'].unique()"
   ]
  },
  {
   "cell_type": "code",
   "execution_count": 6,
   "id": "6ed5b3c5",
   "metadata": {},
   "outputs": [],
   "source": [
    "#methods_to_plot = [\n",
    "#    'lofreq_local_haplo', \n",
    "#       'shorah_default', \n",
    "#       #'cliquesnv_local_haplo_snv_tf0.01',  # exclude because it actually cannot do snv wrt to reference\n",
    "#        'viloca_alpha_0.00001_K100_multib2w', \n",
    "#       'viloca_alpha_0.00001_K100']\n",
    "\n",
    "#df = df[df['method'].isin(methods_to_plot)]\n",
    "df['Method'] = df['method'].apply(lambda x: mapping_methods[x])"
   ]
  },
  {
   "cell_type": "code",
   "execution_count": 7,
   "id": "ddb79ef4",
   "metadata": {},
   "outputs": [
    {
     "data": {
      "text/html": [
       "<div>\n",
       "<style scoped>\n",
       "    .dataframe tbody tr th:only-of-type {\n",
       "        vertical-align: middle;\n",
       "    }\n",
       "\n",
       "    .dataframe tbody tr th {\n",
       "        vertical-align: top;\n",
       "    }\n",
       "\n",
       "    .dataframe thead th {\n",
       "        text-align: right;\n",
       "    }\n",
       "</style>\n",
       "<table border=\"1\" class=\"dataframe\">\n",
       "  <thead>\n",
       "    <tr style=\"text-align: right;\">\n",
       "      <th></th>\n",
       "      <th>Unnamed: 0</th>\n",
       "      <th>method</th>\n",
       "      <th>params</th>\n",
       "      <th>replicate</th>\n",
       "      <th>variable</th>\n",
       "      <th>value</th>\n",
       "      <th>seq_tech</th>\n",
       "      <th>seq_mode</th>\n",
       "      <th>sample</th>\n",
       "      <th>Method</th>\n",
       "    </tr>\n",
       "  </thead>\n",
       "  <tbody>\n",
       "    <tr>\n",
       "      <th>0</th>\n",
       "      <td>0</td>\n",
       "      <td>lofreq_local_haplo</td>\n",
       "      <td>seq\\ntech~illumina\\n\\nseq\\nmode~real\\ndata\\n\\n...</td>\n",
       "      <td>0</td>\n",
       "      <td>precision</td>\n",
       "      <td>0.513337</td>\n",
       "      <td>illumina</td>\n",
       "      <td>real</td>\n",
       "      <td>Five-strain-HIV-Mix</td>\n",
       "      <td>LoFreq</td>\n",
       "    </tr>\n",
       "    <tr>\n",
       "      <th>3</th>\n",
       "      <td>3</td>\n",
       "      <td>lofreq_local_haplo</td>\n",
       "      <td>seq\\ntech~nanopore\\n\\nseq\\nmode~real\\n\\nseq\\nm...</td>\n",
       "      <td>0</td>\n",
       "      <td>precision</td>\n",
       "      <td>0.989474</td>\n",
       "      <td>nanopore</td>\n",
       "      <td>real</td>\n",
       "      <td>Five-strain-PVY-Mix</td>\n",
       "      <td>LoFreq</td>\n",
       "    </tr>\n",
       "    <tr>\n",
       "      <th>6</th>\n",
       "      <td>6</td>\n",
       "      <td>lofreq_local_haplo</td>\n",
       "      <td>seq\\ntech~pacbio\\n\\nseq\\nmode~amplicon\\n\\nseq\\...</td>\n",
       "      <td>0</td>\n",
       "      <td>precision</td>\n",
       "      <td>0.964286</td>\n",
       "      <td>pacbio</td>\n",
       "      <td>amplicon</td>\n",
       "      <td>Ten-strain-IAV-Mix</td>\n",
       "      <td>LoFreq</td>\n",
       "    </tr>\n",
       "    <tr>\n",
       "      <th>10</th>\n",
       "      <td>10</td>\n",
       "      <td>lofreq_local_haplo</td>\n",
       "      <td>seq\\ntech~illumina\\n\\nseq\\nmode~real\\ndata\\n\\n...</td>\n",
       "      <td>0</td>\n",
       "      <td>recall</td>\n",
       "      <td>0.889623</td>\n",
       "      <td>illumina</td>\n",
       "      <td>real</td>\n",
       "      <td>Five-strain-HIV-Mix</td>\n",
       "      <td>LoFreq</td>\n",
       "    </tr>\n",
       "    <tr>\n",
       "      <th>13</th>\n",
       "      <td>13</td>\n",
       "      <td>lofreq_local_haplo</td>\n",
       "      <td>seq\\ntech~nanopore\\n\\nseq\\nmode~real\\n\\nseq\\nm...</td>\n",
       "      <td>0</td>\n",
       "      <td>recall</td>\n",
       "      <td>0.609071</td>\n",
       "      <td>nanopore</td>\n",
       "      <td>real</td>\n",
       "      <td>Five-strain-PVY-Mix</td>\n",
       "      <td>LoFreq</td>\n",
       "    </tr>\n",
       "    <tr>\n",
       "      <th>16</th>\n",
       "      <td>16</td>\n",
       "      <td>lofreq_local_haplo</td>\n",
       "      <td>seq\\ntech~pacbio\\n\\nseq\\nmode~amplicon\\n\\nseq\\...</td>\n",
       "      <td>0</td>\n",
       "      <td>recall</td>\n",
       "      <td>0.435484</td>\n",
       "      <td>pacbio</td>\n",
       "      <td>amplicon</td>\n",
       "      <td>Ten-strain-IAV-Mix</td>\n",
       "      <td>LoFreq</td>\n",
       "    </tr>\n",
       "    <tr>\n",
       "      <th>20</th>\n",
       "      <td>20</td>\n",
       "      <td>lofreq_local_haplo</td>\n",
       "      <td>seq\\ntech~illumina\\n\\nseq\\nmode~real\\ndata\\n\\n...</td>\n",
       "      <td>0</td>\n",
       "      <td>f1</td>\n",
       "      <td>0.651018</td>\n",
       "      <td>illumina</td>\n",
       "      <td>real</td>\n",
       "      <td>Five-strain-HIV-Mix</td>\n",
       "      <td>LoFreq</td>\n",
       "    </tr>\n",
       "    <tr>\n",
       "      <th>23</th>\n",
       "      <td>23</td>\n",
       "      <td>lofreq_local_haplo</td>\n",
       "      <td>seq\\ntech~nanopore\\n\\nseq\\nmode~real\\n\\nseq\\nm...</td>\n",
       "      <td>0</td>\n",
       "      <td>f1</td>\n",
       "      <td>0.754011</td>\n",
       "      <td>nanopore</td>\n",
       "      <td>real</td>\n",
       "      <td>Five-strain-PVY-Mix</td>\n",
       "      <td>LoFreq</td>\n",
       "    </tr>\n",
       "    <tr>\n",
       "      <th>26</th>\n",
       "      <td>26</td>\n",
       "      <td>lofreq_local_haplo</td>\n",
       "      <td>seq\\ntech~pacbio\\n\\nseq\\nmode~amplicon\\n\\nseq\\...</td>\n",
       "      <td>0</td>\n",
       "      <td>f1</td>\n",
       "      <td>0.600000</td>\n",
       "      <td>pacbio</td>\n",
       "      <td>amplicon</td>\n",
       "      <td>Ten-strain-IAV-Mix</td>\n",
       "      <td>LoFreq</td>\n",
       "    </tr>\n",
       "  </tbody>\n",
       "</table>\n",
       "</div>"
      ],
      "text/plain": [
       "    Unnamed: 0              method  \\\n",
       "0            0  lofreq_local_haplo   \n",
       "3            3  lofreq_local_haplo   \n",
       "6            6  lofreq_local_haplo   \n",
       "10          10  lofreq_local_haplo   \n",
       "13          13  lofreq_local_haplo   \n",
       "16          16  lofreq_local_haplo   \n",
       "20          20  lofreq_local_haplo   \n",
       "23          23  lofreq_local_haplo   \n",
       "26          26  lofreq_local_haplo   \n",
       "\n",
       "                                               params  replicate   variable  \\\n",
       "0   seq\\ntech~illumina\\n\\nseq\\nmode~real\\ndata\\n\\n...          0  precision   \n",
       "3   seq\\ntech~nanopore\\n\\nseq\\nmode~real\\n\\nseq\\nm...          0  precision   \n",
       "6   seq\\ntech~pacbio\\n\\nseq\\nmode~amplicon\\n\\nseq\\...          0  precision   \n",
       "10  seq\\ntech~illumina\\n\\nseq\\nmode~real\\ndata\\n\\n...          0     recall   \n",
       "13  seq\\ntech~nanopore\\n\\nseq\\nmode~real\\n\\nseq\\nm...          0     recall   \n",
       "16  seq\\ntech~pacbio\\n\\nseq\\nmode~amplicon\\n\\nseq\\...          0     recall   \n",
       "20  seq\\ntech~illumina\\n\\nseq\\nmode~real\\ndata\\n\\n...          0         f1   \n",
       "23  seq\\ntech~nanopore\\n\\nseq\\nmode~real\\n\\nseq\\nm...          0         f1   \n",
       "26  seq\\ntech~pacbio\\n\\nseq\\nmode~amplicon\\n\\nseq\\...          0         f1   \n",
       "\n",
       "       value  seq_tech  seq_mode               sample  Method  \n",
       "0   0.513337  illumina      real  Five-strain-HIV-Mix  LoFreq  \n",
       "3   0.989474  nanopore      real  Five-strain-PVY-Mix  LoFreq  \n",
       "6   0.964286    pacbio  amplicon  Ten-strain-IAV-Mix   LoFreq  \n",
       "10  0.889623  illumina      real  Five-strain-HIV-Mix  LoFreq  \n",
       "13  0.609071  nanopore      real  Five-strain-PVY-Mix  LoFreq  \n",
       "16  0.435484    pacbio  amplicon  Ten-strain-IAV-Mix   LoFreq  \n",
       "20  0.651018  illumina      real  Five-strain-HIV-Mix  LoFreq  \n",
       "23  0.754011  nanopore      real  Five-strain-PVY-Mix  LoFreq  \n",
       "26  0.600000    pacbio  amplicon  Ten-strain-IAV-Mix   LoFreq  "
      ]
     },
     "execution_count": 7,
     "metadata": {},
     "output_type": "execute_result"
    }
   ],
   "source": [
    "df[df['Method']=='LoFreq']"
   ]
  },
  {
   "cell_type": "code",
   "execution_count": 25,
   "id": "46a5cbe5",
   "metadata": {},
   "outputs": [
    {
     "data": {
      "text/plain": [
       "array(['Five-strain-HIV-Mix', 'Five-strain-PVY-Mix',\n",
       "       'Ten-strain-IAV-Mix '], dtype=object)"
      ]
     },
     "execution_count": 25,
     "metadata": {},
     "output_type": "execute_result"
    }
   ],
   "source": [
    "df['sample'].unique()"
   ]
  },
  {
   "cell_type": "code",
   "execution_count": 28,
   "id": "752254e6",
   "metadata": {},
   "outputs": [
    {
     "data": {
      "text/plain": [
       "<seaborn.axisgrid.FacetGrid at 0x7fb95294f070>"
      ]
     },
     "execution_count": 28,
     "metadata": {},
     "output_type": "execute_result"
    },
    {
     "data": {
      "image/png": "[encoded data removed]",
      "text/plain": [
       "<Figure size 1228.03x360 with 3 Axes>"
      ]
     },
     "metadata": {},
     "output_type": "display_data"
    }
   ],
   "source": [
    "sns.set_theme(style = 'whitegrid')\n",
    "sns.set_theme(style=\"whitegrid\", font_scale=1.8)\n",
    "\n",
    "\n",
    "g = sns.catplot(\n",
    "        data=df,\n",
    "        x=\"variable\",\n",
    "        y=\"value\",\n",
    "        hue=\"Method\",\n",
    "        kind=\"bar\",\n",
    "        col=\"sample\", \n",
    "        hue_order =[\"VILOCA\",\"LoFreq\", \"ShoRAH\"],\n",
    "        col_order = ['Five-strain-PVY-Mix', 'Ten-strain-IAV-Mix ', 'Five-strain-HIV-Mix' ], \n",
    "        legend=True, \n",
    "        linewidth=2,\n",
    "        sharex=True,\n",
    "        margin_titles=True,\n",
    "        palette=method_palette,\n",
    "    )\n",
    "\n",
    "g.set_titles(col_template='{col_name}', size=23)\n",
    "g.set_xticklabels(size=20)\n",
    "#g.set_yticklabels(size=20)\n",
    "g.set(ylabel =\"\")\n",
    "g.set(xlabel =\"\")\n",
    "g.set(ylim=(-0.01, 1))\n",
    "g.tight_layout()"
   ]
  },
  {
   "cell_type": "code",
   "execution_count": 29,
   "id": "bac9fdfc",
   "metadata": {},
   "outputs": [],
   "source": [
    "g.savefig(\"realdata_mutation_calls.svg\")"
   ]
  },
  {
   "cell_type": "code",
   "execution_count": null,
   "id": "8c140f3f",
   "metadata": {},
   "outputs": [],
   "source": []
  }
 ],
 "metadata": {
  "kernelspec": {
   "display_name": "Python 3 (ipykernel)",
   "language": "python",
   "name": "python3"
  },
  "language_info": {
   "codemirror_mode": {
    "name": "ipython",
    "version": 3
   },
   "file_extension": ".py",
   "mimetype": "text/x-python",
   "name": "python",
   "nbconvert_exporter": "python",
   "pygments_lexer": "ipython3",
   "version": "3.9.0"
  }
 },
 "nbformat": 4,
 "nbformat_minor": 5
}
