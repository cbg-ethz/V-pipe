{
 "cells": [
  {
   "cell_type": "code",
   "execution_count": 2,
   "id": "57a0a953",
   "metadata": {},
   "outputs": [],
   "source": [
    "import pandas as pd\n",
    "import seaborn as sns\n",
    "from matplotlib.ticker import FuncFormatter\n",
    "import humanize\n",
    "import matplotlib.pyplot as plt\n",
    "import matplotlib as mpl\n",
    "import numpy as np"
   ]
  },
  {
   "cell_type": "code",
   "execution_count": 3,
   "id": "b155874e",
   "metadata": {},
   "outputs": [],
   "source": [
    "fname_runtime =  \"results/distance/performance_measures/runtime.csv\""
   ]
  },
  {
   "cell_type": "code",
   "execution_count": 4,
   "id": "38db5bea",
   "metadata": {},
   "outputs": [],
   "source": [
    "method_palette = { \"LoFreq\": \"#9593D9\",\n",
    "                   \"ShoRAH\": \"#ffe66d\",\n",
    "                   \"CliqueSNV\":  \"#4ecdc4\",\n",
    "                   \"VILOCA\": \"#ff6b6b\",\n",
    "                   \"ground_truth\": \"grey\",\n",
    "                  \"ground truth\": \"grey\",\n",
    "                  \"PredictHaplo\": \"#227c9d\",\n",
    "                  }\n",
    "\n",
    "mapping_methods = {\n",
    "    'cliquesnv_local_haplo_snv_tf0.01': \"CliqueSNV\",\n",
    "    'cliquesnv_local_haplo_snv': \"CliqueSNV\",\n",
    "    'cliquesnv_local_haplo_tf0.01': \"CliqueSNV\",\n",
    "    'cliquesnv_local_haplo': \"CliqueSNV\",\n",
    "    'shorah_default': 'ShoRAH',\n",
    "    'lofreq_local_haplo': 'LoFreq',\n",
    "    'viloca_alpha_0.00001': 'VILOCA',\n",
    "    'viloca_alpha_0.00001_K100': 'VILOCA',\n",
    "    'viloca_multi': 'VILOCA',\n",
    "    'ground_truth': \"ground truth\",\n",
    "    'predicthaplo_local_haplo': 'PredictHaplo'\n",
    "}"
   ]
  },
  {
   "cell_type": "code",
   "execution_count": 5,
   "id": "0d65ecad",
   "metadata": {},
   "outputs": [],
   "source": [
    "mapping_haplos = {\n",
    "    '2@3@30@20@20@geom@0.75': 'Population 1', \n",
    "    '5@5@30@10@15@geom@0.75': 'Population 2',\n",
    "    '5@10@30@10@10@geom@0.75': 'Population 3', \n",
    "    '5@15@30@10@15@geom@0.75': 'Population 4', \n",
    "    \n",
    "    '2@3@600@400@400@geom@0.75': 'Population 5',\n",
    "    '2@3@600@600@600@geom@0.75': 'Population 6',\n",
    "    '5@5@600@200@300@geom@0.75': 'Population 7', \n",
    "    '5@10@600@200@240@geom@0.75': 'Population 8',\n",
    "}"
   ]
  },
  {
   "cell_type": "markdown",
   "id": "685446e6",
   "metadata": {},
   "source": [
    "## runtime plots"
   ]
  },
  {
   "cell_type": "code",
   "execution_count": 7,
   "id": "bb58dbf9",
   "metadata": {},
   "outputs": [],
   "source": [
    "df = pd.read_csv(fname_runtime)\n",
    "df.loc[:,'coverage'] = df['params'].str.split('~').str[6].str.split('__').str[0]\n",
    "df.loc[:, 'haplos'] = df['params'].str.split('~').str[7].str.split('\\n').str[0]\n",
    "df.loc[:, 'seq_tech'] = df['params'].str.split('~').str[1].str.split('__').str[0]\n",
    "\n",
    "df = df[df['method'].isin(mapping_methods.keys())]\n",
    "df[\"Method\"] = df['method'].apply(lambda x: mapping_methods[x])\n"
   ]
  },
  {
   "cell_type": "code",
   "execution_count": 8,
   "id": "5910486a",
   "metadata": {},
   "outputs": [
    {
     "data": {
      "text/html": [
       "<div>\n",
       "<style scoped>\n",
       "    .dataframe tbody tr th:only-of-type {\n",
       "        vertical-align: middle;\n",
       "    }\n",
       "\n",
       "    .dataframe tbody tr th {\n",
       "        vertical-align: top;\n",
       "    }\n",
       "\n",
       "    .dataframe thead th {\n",
       "        text-align: right;\n",
       "    }\n",
       "</style>\n",
       "<table border=\"1\" class=\"dataframe\">\n",
       "  <thead>\n",
       "    <tr style=\"text-align: right;\">\n",
       "      <th></th>\n",
       "      <th>Unnamed: 0</th>\n",
       "      <th>method</th>\n",
       "      <th>params</th>\n",
       "      <th>replicate</th>\n",
       "      <th>variable</th>\n",
       "      <th>value</th>\n",
       "      <th>coverage</th>\n",
       "      <th>haplos</th>\n",
       "      <th>seq_tech</th>\n",
       "      <th>Method</th>\n",
       "    </tr>\n",
       "  </thead>\n",
       "  <tbody>\n",
       "    <tr>\n",
       "      <th>59</th>\n",
       "      <td>59</td>\n",
       "      <td>lofreq_local_haplo</td>\n",
       "      <td>seq\\ntech~illumina\\n\\nseq\\nmode~shotgun\\n\\nseq...</td>\n",
       "      <td>0</td>\n",
       "      <td>s</td>\n",
       "      <td>0.9461</td>\n",
       "      <td>200\\n\\nhaplos</td>\n",
       "      <td>5@5@30@10@15@geom@0.75</td>\n",
       "      <td>illumina\\n\\nseq\\nmode</td>\n",
       "      <td>LoFreq</td>\n",
       "    </tr>\n",
       "    <tr>\n",
       "      <th>63</th>\n",
       "      <td>63</td>\n",
       "      <td>lofreq_local_haplo</td>\n",
       "      <td>seq\\ntech~illumina\\n\\nseq\\nmode~shotgun\\n\\nseq...</td>\n",
       "      <td>4</td>\n",
       "      <td>s</td>\n",
       "      <td>1.0466</td>\n",
       "      <td>200\\n\\nhaplos</td>\n",
       "      <td>5@5@30@10@15@geom@0.75</td>\n",
       "      <td>illumina\\n\\nseq\\nmode</td>\n",
       "      <td>LoFreq</td>\n",
       "    </tr>\n",
       "    <tr>\n",
       "      <th>86</th>\n",
       "      <td>86</td>\n",
       "      <td>lofreq_local_haplo</td>\n",
       "      <td>seq\\ntech~illumina\\n\\nseq\\nmode~shotgun\\n\\nseq...</td>\n",
       "      <td>2</td>\n",
       "      <td>s</td>\n",
       "      <td>1.3214</td>\n",
       "      <td>500\\n\\nhaplos</td>\n",
       "      <td>5@5@30@10@15@geom@0.75</td>\n",
       "      <td>illumina\\n\\nseq\\nmode</td>\n",
       "      <td>LoFreq</td>\n",
       "    </tr>\n",
       "    <tr>\n",
       "      <th>87</th>\n",
       "      <td>87</td>\n",
       "      <td>lofreq_local_haplo</td>\n",
       "      <td>seq\\ntech~illumina\\n\\nseq\\nmode~shotgun\\n\\nseq...</td>\n",
       "      <td>3</td>\n",
       "      <td>s</td>\n",
       "      <td>1.4040</td>\n",
       "      <td>500\\n\\nhaplos</td>\n",
       "      <td>5@5@30@10@15@geom@0.75</td>\n",
       "      <td>illumina\\n\\nseq\\nmode</td>\n",
       "      <td>LoFreq</td>\n",
       "    </tr>\n",
       "    <tr>\n",
       "      <th>235</th>\n",
       "      <td>235</td>\n",
       "      <td>lofreq_local_haplo</td>\n",
       "      <td>seq\\ntech~illumina\\n\\nseq\\nmode~shotgun\\n\\nseq...</td>\n",
       "      <td>1</td>\n",
       "      <td>s</td>\n",
       "      <td>1.7906</td>\n",
       "      <td>1000\\n\\nhaplos</td>\n",
       "      <td>5@10@30@10@10@geom@0.75</td>\n",
       "      <td>illumina\\n\\nseq\\nmode</td>\n",
       "      <td>LoFreq</td>\n",
       "    </tr>\n",
       "    <tr>\n",
       "      <th>...</th>\n",
       "      <td>...</td>\n",
       "      <td>...</td>\n",
       "      <td>...</td>\n",
       "      <td>...</td>\n",
       "      <td>...</td>\n",
       "      <td>...</td>\n",
       "      <td>...</td>\n",
       "      <td>...</td>\n",
       "      <td>...</td>\n",
       "      <td>...</td>\n",
       "    </tr>\n",
       "    <tr>\n",
       "      <th>692</th>\n",
       "      <td>692</td>\n",
       "      <td>lofreq_local_haplo</td>\n",
       "      <td>seq\\ntech~nanopore\\n\\nseq\\nmode~shotgun\\n\\nseq...</td>\n",
       "      <td>0</td>\n",
       "      <td>s</td>\n",
       "      <td>1710.4339</td>\n",
       "      <td>10000\\n\\nhaplos</td>\n",
       "      <td>2@3@600@600@600@geom@0.75</td>\n",
       "      <td>nanopore\\n\\nseq\\nmode</td>\n",
       "      <td>LoFreq</td>\n",
       "    </tr>\n",
       "    <tr>\n",
       "      <th>696</th>\n",
       "      <td>696</td>\n",
       "      <td>lofreq_local_haplo</td>\n",
       "      <td>seq\\ntech~nanopore\\n\\nseq\\nmode~shotgun\\n\\nseq...</td>\n",
       "      <td>4</td>\n",
       "      <td>s</td>\n",
       "      <td>1760.8780</td>\n",
       "      <td>10000\\n\\nhaplos</td>\n",
       "      <td>2@3@600@600@600@geom@0.75</td>\n",
       "      <td>nanopore\\n\\nseq\\nmode</td>\n",
       "      <td>LoFreq</td>\n",
       "    </tr>\n",
       "    <tr>\n",
       "      <th>694</th>\n",
       "      <td>694</td>\n",
       "      <td>lofreq_local_haplo</td>\n",
       "      <td>seq\\ntech~nanopore\\n\\nseq\\nmode~shotgun\\n\\nseq...</td>\n",
       "      <td>2</td>\n",
       "      <td>s</td>\n",
       "      <td>1798.8014</td>\n",
       "      <td>10000\\n\\nhaplos</td>\n",
       "      <td>2@3@600@600@600@geom@0.75</td>\n",
       "      <td>nanopore\\n\\nseq\\nmode</td>\n",
       "      <td>LoFreq</td>\n",
       "    </tr>\n",
       "    <tr>\n",
       "      <th>693</th>\n",
       "      <td>693</td>\n",
       "      <td>lofreq_local_haplo</td>\n",
       "      <td>seq\\ntech~nanopore\\n\\nseq\\nmode~shotgun\\n\\nseq...</td>\n",
       "      <td>1</td>\n",
       "      <td>s</td>\n",
       "      <td>1861.9009</td>\n",
       "      <td>10000\\n\\nhaplos</td>\n",
       "      <td>2@3@600@600@600@geom@0.75</td>\n",
       "      <td>nanopore\\n\\nseq\\nmode</td>\n",
       "      <td>LoFreq</td>\n",
       "    </tr>\n",
       "    <tr>\n",
       "      <th>695</th>\n",
       "      <td>695</td>\n",
       "      <td>lofreq_local_haplo</td>\n",
       "      <td>seq\\ntech~nanopore\\n\\nseq\\nmode~shotgun\\n\\nseq...</td>\n",
       "      <td>3</td>\n",
       "      <td>s</td>\n",
       "      <td>1963.2333</td>\n",
       "      <td>10000\\n\\nhaplos</td>\n",
       "      <td>2@3@600@600@600@geom@0.75</td>\n",
       "      <td>nanopore\\n\\nseq\\nmode</td>\n",
       "      <td>LoFreq</td>\n",
       "    </tr>\n",
       "  </tbody>\n",
       "</table>\n",
       "<p>150 rows × 10 columns</p>\n",
       "</div>"
      ],
      "text/plain": [
       "     Unnamed: 0              method  \\\n",
       "59           59  lofreq_local_haplo   \n",
       "63           63  lofreq_local_haplo   \n",
       "86           86  lofreq_local_haplo   \n",
       "87           87  lofreq_local_haplo   \n",
       "235         235  lofreq_local_haplo   \n",
       "..          ...                 ...   \n",
       "692         692  lofreq_local_haplo   \n",
       "696         696  lofreq_local_haplo   \n",
       "694         694  lofreq_local_haplo   \n",
       "693         693  lofreq_local_haplo   \n",
       "695         695  lofreq_local_haplo   \n",
       "\n",
       "                                                params  replicate variable  \\\n",
       "59   seq\\ntech~illumina\\n\\nseq\\nmode~shotgun\\n\\nseq...          0        s   \n",
       "63   seq\\ntech~illumina\\n\\nseq\\nmode~shotgun\\n\\nseq...          4        s   \n",
       "86   seq\\ntech~illumina\\n\\nseq\\nmode~shotgun\\n\\nseq...          2        s   \n",
       "87   seq\\ntech~illumina\\n\\nseq\\nmode~shotgun\\n\\nseq...          3        s   \n",
       "235  seq\\ntech~illumina\\n\\nseq\\nmode~shotgun\\n\\nseq...          1        s   \n",
       "..                                                 ...        ...      ...   \n",
       "692  seq\\ntech~nanopore\\n\\nseq\\nmode~shotgun\\n\\nseq...          0        s   \n",
       "696  seq\\ntech~nanopore\\n\\nseq\\nmode~shotgun\\n\\nseq...          4        s   \n",
       "694  seq\\ntech~nanopore\\n\\nseq\\nmode~shotgun\\n\\nseq...          2        s   \n",
       "693  seq\\ntech~nanopore\\n\\nseq\\nmode~shotgun\\n\\nseq...          1        s   \n",
       "695  seq\\ntech~nanopore\\n\\nseq\\nmode~shotgun\\n\\nseq...          3        s   \n",
       "\n",
       "         value         coverage                     haplos  \\\n",
       "59      0.9461    200\\n\\nhaplos     5@5@30@10@15@geom@0.75   \n",
       "63      1.0466    200\\n\\nhaplos     5@5@30@10@15@geom@0.75   \n",
       "86      1.3214    500\\n\\nhaplos     5@5@30@10@15@geom@0.75   \n",
       "87      1.4040    500\\n\\nhaplos     5@5@30@10@15@geom@0.75   \n",
       "235     1.7906   1000\\n\\nhaplos    5@10@30@10@10@geom@0.75   \n",
       "..         ...              ...                        ...   \n",
       "692  1710.4339  10000\\n\\nhaplos  2@3@600@600@600@geom@0.75   \n",
       "696  1760.8780  10000\\n\\nhaplos  2@3@600@600@600@geom@0.75   \n",
       "694  1798.8014  10000\\n\\nhaplos  2@3@600@600@600@geom@0.75   \n",
       "693  1861.9009  10000\\n\\nhaplos  2@3@600@600@600@geom@0.75   \n",
       "695  1963.2333  10000\\n\\nhaplos  2@3@600@600@600@geom@0.75   \n",
       "\n",
       "                  seq_tech  Method  \n",
       "59   illumina\\n\\nseq\\nmode  LoFreq  \n",
       "63   illumina\\n\\nseq\\nmode  LoFreq  \n",
       "86   illumina\\n\\nseq\\nmode  LoFreq  \n",
       "87   illumina\\n\\nseq\\nmode  LoFreq  \n",
       "235  illumina\\n\\nseq\\nmode  LoFreq  \n",
       "..                     ...     ...  \n",
       "692  nanopore\\n\\nseq\\nmode  LoFreq  \n",
       "696  nanopore\\n\\nseq\\nmode  LoFreq  \n",
       "694  nanopore\\n\\nseq\\nmode  LoFreq  \n",
       "693  nanopore\\n\\nseq\\nmode  LoFreq  \n",
       "695  nanopore\\n\\nseq\\nmode  LoFreq  \n",
       "\n",
       "[150 rows x 10 columns]"
      ]
     },
     "execution_count": 8,
     "metadata": {},
     "output_type": "execute_result"
    }
   ],
   "source": [
    "df[df['Method']=='LoFreq'].sort_values('value')"
   ]
  },
  {
   "cell_type": "code",
   "execution_count": 16,
   "id": "6ec4f4be",
   "metadata": {},
   "outputs": [
    {
     "data": {
      "text/plain": [
       "9.684266388888888"
      ]
     },
     "execution_count": 16,
     "metadata": {},
     "output_type": "execute_result"
    }
   ],
   "source": [
    "df[df['Method']=='PredictHaplo']['value'].max()\n",
    "34863.359/60/60"
   ]
  },
  {
   "cell_type": "code",
   "execution_count": 9,
   "id": "b7964fe1",
   "metadata": {},
   "outputs": [
    {
     "data": {
      "text/plain": [
       "14.958333333333334"
      ]
     },
     "execution_count": 9,
     "metadata": {},
     "output_type": "execute_result"
    }
   ],
   "source": [
    "df[df['Method']=='CliqueSNV']['value'].max() # = 359.0311111 Stunden\n",
    "359/24 # --> nearly 15 days"
   ]
  },
  {
   "cell_type": "code",
   "execution_count": 10,
   "id": "60c68344",
   "metadata": {},
   "outputs": [
    {
     "data": {
      "text/plain": [
       "1"
      ]
     },
     "execution_count": 10,
     "metadata": {},
     "output_type": "execute_result"
    }
   ],
   "source": [
    "15*24 - 359"
   ]
  },
  {
   "cell_type": "code",
   "execution_count": 17,
   "id": "9f56764d",
   "metadata": {},
   "outputs": [
    {
     "data": {
      "text/plain": [
       "1292512.3887"
      ]
     },
     "execution_count": 17,
     "metadata": {},
     "output_type": "execute_result"
    }
   ],
   "source": [
    "df[df['Method']=='CliqueSNV']['value'].max()"
   ]
  },
  {
   "cell_type": "code",
   "execution_count": 11,
   "id": "1b6954c4",
   "metadata": {},
   "outputs": [
    {
     "data": {
      "text/plain": [
       "90682.641"
      ]
     },
     "execution_count": 11,
     "metadata": {},
     "output_type": "execute_result"
    }
   ],
   "source": [
    "90682.6410"
   ]
  },
  {
   "cell_type": "code",
   "execution_count": 12,
   "id": "bc052b39",
   "metadata": {},
   "outputs": [
    {
     "name": "stderr",
     "output_type": "stream",
     "text": [
      "/var/folders/dw/8dl4p6h53cgcmk6cf_09v5f40000gr/T/ipykernel_4085/3553202358.py:30: UserWarning: FixedFormatter should only be used together with FixedLocator\n",
      "  g.ax.set_yticklabels([datetime.timedelta(seconds=ti) for ti in ticks])\n"
     ]
    },
    {
     "data": {
      "text/plain": [
       "<seaborn.axisgrid.FacetGrid at 0x7f7c278e52b0>"
      ]
     },
     "execution_count": 12,
     "metadata": {},
     "output_type": "execute_result"
    },
    {
     "data": {
      "image/png": "[encoded data removed]",
      "text/plain": [
       "<Figure size 459.25x360 with 1 Axes>"
      ]
     },
     "metadata": {
      "needs_background": "light"
     },
     "output_type": "display_data"
    }
   ],
   "source": [
    "import time\n",
    "\n",
    "g = sns.catplot(\n",
    "        data=df,\n",
    "        x=\"seq_tech\",\n",
    "        y=\"value\",\n",
    "        hue=\"Method\",\n",
    "        kind=\"point\",\n",
    "        legend=True, \n",
    "        sharex=True,\n",
    "        sharey=False,\n",
    "        linestyles='', \n",
    "        margin_titles=True,\n",
    "        palette=method_palette,\n",
    "        hue_order=['VILOCA', 'LoFreq', 'ShoRAH', 'CliqueSNV', 'PredictHaplo'],\n",
    "        #width=0.5,\n",
    "        #linewidth=0.2,\n",
    "        dodge=0.5,\n",
    "        errorbar='sd'\n",
    "    )\n",
    "\n",
    "# set your date formatter whit this format '%H:%M'\n",
    "#formatter = time.strftime('%H:%M:%S', time.gmtime)\n",
    "#g.ax.yaxis.set_major_formatter(formatter)\n",
    "ticks = g.ax.get_yticks()\n",
    "#g.ax.set_yticklabels(pd.to_datetime(ticks, unit='s').strftime('%H:%M:%S'))\n",
    "\n",
    "import datetime\n",
    "#str(datetime.timedelta(seconds=666))\n",
    "g.ax.set_yticklabels([datetime.timedelta(seconds=ti) for ti in ticks])\n",
    "\n",
    "g.tight_layout()"
   ]
  },
  {
   "cell_type": "code",
   "execution_count": 13,
   "id": "bdaeeb7e",
   "metadata": {},
   "outputs": [],
   "source": [
    "g.savefig('distance__runtime.svg')"
   ]
  },
  {
   "cell_type": "code",
   "execution_count": null,
   "id": "cd9c56d7",
   "metadata": {},
   "outputs": [],
   "source": []
  }
 ],
 "metadata": {
  "kernelspec": {
   "display_name": "Python 3 (ipykernel)",
   "language": "python",
   "name": "python3"
  },
  "language_info": {
   "codemirror_mode": {
    "name": "ipython",
    "version": 3
   },
   "file_extension": ".py",
   "mimetype": "text/x-python",
   "name": "python",
   "nbconvert_exporter": "python",
   "pygments_lexer": "ipython3",
   "version": "3.9.0"
  }
 },
 "nbformat": 4,
 "nbformat_minor": 5
}
